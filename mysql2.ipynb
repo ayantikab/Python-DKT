{
 "cells": [
  {
   "cell_type": "code",
   "execution_count": 5,
   "metadata": {},
   "outputs": [
    {
     "name": "stdout",
     "output_type": "stream",
     "text": [
      "created successfully\n"
     ]
    }
   ],
   "source": [
    "import mysql.connector\n",
    "mydb=mysql.connector.connect(\n",
    "    host=\"localhost\",\n",
    "    user= \"root\",\n",
    "    password=\"\"\n",
    ")\n",
    "mycur=mydb.cursor()\n",
    "mycur.execute(\"CREATE DATABASE msit\")\n",
    "print(\"created successfully\")"
   ]
  },
  {
   "cell_type": "code",
   "execution_count": 10,
   "metadata": {},
   "outputs": [
    {
     "name": "stdout",
     "output_type": "stream",
     "text": [
      "created successfully\n"
     ]
    }
   ],
   "source": [
    "import mysql.connector\n",
    "mydb = mysql.connector.connect(\n",
    "    host=\"localhost\",\n",
    "    user= \"root\",\n",
    "    password=\"\",\n",
    "    database=\"msit\"\n",
    ")\n",
    "mycur = mydb.cursor()\n",
    "#mycur.execute(\"CREATE TABLE customers(id INT AUTO_INCREMENT PRIMARY KEY, name VARCHAR (255), address VARCHAR (255))\")\n",
    "mycur.execute(\"CREATE TABLE customers_students(id INT AUTO_INCREMENT PRIMARY KEY, name VARCHAR (255), address VARCHAR (255),email VARCHAR(100), gender CHAR(10)) \")\n",
    "print(\"created successfully\")"
   ]
  },
  {
   "cell_type": "code",
   "execution_count": 12,
   "metadata": {},
   "outputs": [],
   "source": [
    "import mysql.connector\n",
    "mydb = mysql.connector.connect(\n",
    "    host=\"localhost\",\n",
    "    user= \"root\",\n",
    "    password=\"\",\n",
    "    database=\"msit\"\n",
    ")\n",
    "mycur = mydb.cursor()\n",
    "sql=\"INSERT INTO customers(name, address) VALUES( %s,%s)\"\n",
    "val= (\"BYSALI\",\"Kolkata\")\n",
    "mycur.execute(sql,val)\n",
    "mydb.commit()"
   ]
  },
  {
   "cell_type": "code",
   "execution_count": 4,
   "metadata": {},
   "outputs": [
    {
     "name": "stdout",
     "output_type": "stream",
     "text": [
      "Collecting mysql-connector\n",
      "  Using cached mysql-connector-2.2.9.tar.gz (11.9 MB)\n",
      "  Installing build dependencies: started\n",
      "  Installing build dependencies: finished with status 'done'\n",
      "  Getting requirements to build wheel: started\n",
      "  Getting requirements to build wheel: finished with status 'done'\n",
      "  Preparing metadata (pyproject.toml): started\n",
      "  Preparing metadata (pyproject.toml): finished with status 'done'\n",
      "Building wheels for collected packages: mysql-connector\n",
      "  Building wheel for mysql-connector (pyproject.toml): started\n",
      "  Building wheel for mysql-connector (pyproject.toml): finished with status 'done'\n",
      "  Created wheel for mysql-connector: filename=mysql_connector-2.2.9-cp311-cp311-win_amd64.whl size=247958 sha256=4e2eb24a0430014531571dc56cca2b320329c9659b5446281d56b8e05a4fca74\n",
      "  Stored in directory: c:\\users\\ayantika\\appdata\\local\\pip\\cache\\wheels\\17\\cd\\ed\\2d49e9bac69cf09382e4c7cc20a2511202b48324b87db26019\n",
      "Successfully built mysql-connector\n",
      "Installing collected packages: mysql-connector\n",
      "Successfully installed mysql-connector-2.2.9\n",
      "Note: you may need to restart the kernel to use updated packages.\n"
     ]
    }
   ],
   "source": [
    "pip install mysql-connector"
   ]
  },
  {
   "cell_type": "code",
   "execution_count": 16,
   "metadata": {},
   "outputs": [],
   "source": [
    "import mysql.connector\n",
    "mydb = mysql.connector.connect(\n",
    "    host=\"localhost\",\n",
    "    user= \"root\",\n",
    "    password=\"\",\n",
    "    database=\"msit\"\n",
    ")\n",
    "mycur = mydb.cursor()\n",
    "sql=\"INSERT INTO customers_students(name, address, email, gender) VALUES( %s, %s, %s, %s)\"\n",
    "val= (\"Ayantika\",\"Kolkata\",\"qwerty@gmail.com\",\"F\")\n",
    "val2=(\"Bysali\",\"Kolkata\",\"xcfvghyju@gmail.com\",\"F\")\n",
    "mycur.execute(sql,val2)\n",
    "mydb.commit()"
   ]
  },
  {
   "cell_type": "code",
   "execution_count": 20,
   "metadata": {},
   "outputs": [],
   "source": [
    "import mysql.connector\n",
    "mydb = mysql.connector.connect(\n",
    "    host=\"localhost\",\n",
    "    user= \"root\",\n",
    "    password=\"\",\n",
    "    database=\"msit\"\n",
    ")\n",
    "mycur = mydb.cursor()\n",
    "sql=\"INSERT INTO customers_students(name, address, email, gender) VALUES( %s, %s, %s, %s)\"\n",
    "a=str(input(\"Enter your name:\"))\n",
    "b=str(input(\"Enter your address:\"))\n",
    "c=str(input(\"Enter your email:\"))\n",
    "d=str(input(\"Enter your gender:\"))\n",
    "val2=(a,b,c,d)\n",
    "#val= (\"Ayantika\",\"Kolkata\",\"qwerty@gmail.com\",\"F\")\n",
    "#val2=(\"Bysali\",\"Kolkata\",\"xcfvghyju@gmail.com\",\"F\")\n",
    "mycur.execute(sql,val2)\n",
    "mydb.commit()\n"
   ]
  },
  {
   "cell_type": "code",
   "execution_count": 31,
   "metadata": {},
   "outputs": [
    {
     "ename": "InternalError",
     "evalue": "Unread result found",
     "output_type": "error",
     "traceback": [
      "\u001b[1;31m---------------------------------------------------------------------------\u001b[0m",
      "\u001b[1;31mInternalError\u001b[0m                             Traceback (most recent call last)",
      "Cell \u001b[1;32mIn[31], line 10\u001b[0m\n\u001b[0;32m      8\u001b[0m mycur \u001b[39m=\u001b[39m mydb\u001b[39m.\u001b[39mcursor()\n\u001b[0;32m      9\u001b[0m mycur\u001b[39m.\u001b[39mexecute(\u001b[39m\"\u001b[39m\u001b[39mselect * from customers\u001b[39m\u001b[39m\"\u001b[39m)\n\u001b[1;32m---> 10\u001b[0m mycur\u001b[39m.\u001b[39;49mexecute(\u001b[39m\"\u001b[39;49m\u001b[39mselect * from customers WHERE id=1\u001b[39;49m\u001b[39m\"\u001b[39;49m)\n\u001b[0;32m     11\u001b[0m res1\u001b[39m=\u001b[39mmycur\u001b[39m.\u001b[39mfetchall()\n\u001b[0;32m     12\u001b[0m \u001b[39m#res2=mycur.fetchall()\u001b[39;00m\n",
      "File \u001b[1;32mc:\\Users\\Ayantika\\AppData\\Local\\Programs\\Python\\Python311\\Lib\\site-packages\\mysql\\connector\\cursor.py:521\u001b[0m, in \u001b[0;36mMySQLCursor.execute\u001b[1;34m(self, operation, params, multi)\u001b[0m\n\u001b[0;32m    518\u001b[0m \u001b[39mif\u001b[39;00m \u001b[39mnot\u001b[39;00m \u001b[39mself\u001b[39m\u001b[39m.\u001b[39m_connection:\n\u001b[0;32m    519\u001b[0m     \u001b[39mraise\u001b[39;00m errors\u001b[39m.\u001b[39mProgrammingError(\u001b[39m\"\u001b[39m\u001b[39mCursor is not connected\u001b[39m\u001b[39m\"\u001b[39m)\n\u001b[1;32m--> 521\u001b[0m \u001b[39mself\u001b[39;49m\u001b[39m.\u001b[39;49m_connection\u001b[39m.\u001b[39;49mhandle_unread_result()\n\u001b[0;32m    523\u001b[0m \u001b[39mself\u001b[39m\u001b[39m.\u001b[39m_reset_result()\n\u001b[0;32m    524\u001b[0m stmt \u001b[39m=\u001b[39m \u001b[39m'\u001b[39m\u001b[39m'\u001b[39m\n",
      "File \u001b[1;32mc:\\Users\\Ayantika\\AppData\\Local\\Programs\\Python\\Python311\\Lib\\site-packages\\mysql\\connector\\connection.py:1059\u001b[0m, in \u001b[0;36mMySQLConnection.handle_unread_result\u001b[1;34m(self)\u001b[0m\n\u001b[0;32m   1057\u001b[0m     \u001b[39mself\u001b[39m\u001b[39m.\u001b[39mconsume_results()\n\u001b[0;32m   1058\u001b[0m \u001b[39melif\u001b[39;00m \u001b[39mself\u001b[39m\u001b[39m.\u001b[39munread_result:\n\u001b[1;32m-> 1059\u001b[0m     \u001b[39mraise\u001b[39;00m errors\u001b[39m.\u001b[39mInternalError(\u001b[39m\"\u001b[39m\u001b[39mUnread result found\u001b[39m\u001b[39m\"\u001b[39m)\n",
      "\u001b[1;31mInternalError\u001b[0m: Unread result found"
     ]
    }
   ],
   "source": [
    "import mysql.connector\n",
    "mydb = mysql.connector.connect(\n",
    "    host=\"localhost\",\n",
    "    user= \"root\",\n",
    "    password=\"\",\n",
    "    database=\"msit\"\n",
    ")\n",
    "mycur = mydb.cursor()\n",
    "mycur.execute(\"select * from customers\")\n",
    "mycur.execute(\"select * from customers WHERE id=1\")\n",
    "res1=mycur.fetchall()\n",
    "#res2=mycur.fetchall()\n",
    "for i in res1:\n",
    "    print(i)\n",
    "#for i in res2:\n",
    "    #print(i)\n",
    "\n"
   ]
  }
 ],
 "metadata": {
  "kernelspec": {
   "display_name": "Python 3",
   "language": "python",
   "name": "python3"
  },
  "language_info": {
   "codemirror_mode": {
    "name": "ipython",
    "version": 3
   },
   "file_extension": ".py",
   "mimetype": "text/x-python",
   "name": "python",
   "nbconvert_exporter": "python",
   "pygments_lexer": "ipython3",
   "version": "3.11.4"
  },
  "orig_nbformat": 4
 },
 "nbformat": 4,
 "nbformat_minor": 2
}
